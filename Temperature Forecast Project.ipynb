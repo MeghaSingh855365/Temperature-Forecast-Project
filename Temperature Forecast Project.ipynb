{
 "cells": [
  {
   "cell_type": "code",
   "execution_count": 1,
   "id": "caefff11",
   "metadata": {},
   "outputs": [],
   "source": [
    "import numpy as np\n",
    "import pandas as pd\n",
    "import matplotlib.pyplot as plt\n",
    "import seaborn as sns\n",
    "import warnings \n",
    "warnings.filterwarnings(\"ignore\")"
   ]
  },
  {
   "cell_type": "code",
   "execution_count": 2,
   "id": "6db3d7d9",
   "metadata": {},
   "outputs": [
    {
     "data": {
      "text/html": [
       "<div>\n",
       "<style scoped>\n",
       "    .dataframe tbody tr th:only-of-type {\n",
       "        vertical-align: middle;\n",
       "    }\n",
       "\n",
       "    .dataframe tbody tr th {\n",
       "        vertical-align: top;\n",
       "    }\n",
       "\n",
       "    .dataframe thead th {\n",
       "        text-align: right;\n",
       "    }\n",
       "</style>\n",
       "<table border=\"1\" class=\"dataframe\">\n",
       "  <thead>\n",
       "    <tr style=\"text-align: right;\">\n",
       "      <th></th>\n",
       "      <th>station</th>\n",
       "      <th>Date</th>\n",
       "      <th>Present_Tmax</th>\n",
       "      <th>Present_Tmin</th>\n",
       "      <th>LDAPS_RHmin</th>\n",
       "      <th>LDAPS_RHmax</th>\n",
       "      <th>LDAPS_Tmax_lapse</th>\n",
       "      <th>LDAPS_Tmin_lapse</th>\n",
       "      <th>LDAPS_WS</th>\n",
       "      <th>LDAPS_LH</th>\n",
       "      <th>...</th>\n",
       "      <th>LDAPS_PPT2</th>\n",
       "      <th>LDAPS_PPT3</th>\n",
       "      <th>LDAPS_PPT4</th>\n",
       "      <th>lat</th>\n",
       "      <th>lon</th>\n",
       "      <th>DEM</th>\n",
       "      <th>Slope</th>\n",
       "      <th>Solar radiation</th>\n",
       "      <th>Next_Tmax</th>\n",
       "      <th>Next_Tmin</th>\n",
       "    </tr>\n",
       "  </thead>\n",
       "  <tbody>\n",
       "    <tr>\n",
       "      <th>0</th>\n",
       "      <td>1.0</td>\n",
       "      <td>30-06-2013</td>\n",
       "      <td>28.7</td>\n",
       "      <td>21.4</td>\n",
       "      <td>58.255688</td>\n",
       "      <td>91.116364</td>\n",
       "      <td>28.074101</td>\n",
       "      <td>23.006936</td>\n",
       "      <td>6.818887</td>\n",
       "      <td>69.451805</td>\n",
       "      <td>...</td>\n",
       "      <td>0.000000</td>\n",
       "      <td>0.000000</td>\n",
       "      <td>0.000000</td>\n",
       "      <td>37.6046</td>\n",
       "      <td>126.991</td>\n",
       "      <td>212.3350</td>\n",
       "      <td>2.785000</td>\n",
       "      <td>5992.895996</td>\n",
       "      <td>29.1</td>\n",
       "      <td>21.2</td>\n",
       "    </tr>\n",
       "    <tr>\n",
       "      <th>1</th>\n",
       "      <td>2.0</td>\n",
       "      <td>30-06-2013</td>\n",
       "      <td>31.9</td>\n",
       "      <td>21.6</td>\n",
       "      <td>52.263397</td>\n",
       "      <td>90.604721</td>\n",
       "      <td>29.850689</td>\n",
       "      <td>24.035009</td>\n",
       "      <td>5.691890</td>\n",
       "      <td>51.937448</td>\n",
       "      <td>...</td>\n",
       "      <td>0.000000</td>\n",
       "      <td>0.000000</td>\n",
       "      <td>0.000000</td>\n",
       "      <td>37.6046</td>\n",
       "      <td>127.032</td>\n",
       "      <td>44.7624</td>\n",
       "      <td>0.514100</td>\n",
       "      <td>5869.312500</td>\n",
       "      <td>30.5</td>\n",
       "      <td>22.5</td>\n",
       "    </tr>\n",
       "    <tr>\n",
       "      <th>2</th>\n",
       "      <td>3.0</td>\n",
       "      <td>30-06-2013</td>\n",
       "      <td>31.6</td>\n",
       "      <td>23.3</td>\n",
       "      <td>48.690479</td>\n",
       "      <td>83.973587</td>\n",
       "      <td>30.091292</td>\n",
       "      <td>24.565633</td>\n",
       "      <td>6.138224</td>\n",
       "      <td>20.573050</td>\n",
       "      <td>...</td>\n",
       "      <td>0.000000</td>\n",
       "      <td>0.000000</td>\n",
       "      <td>0.000000</td>\n",
       "      <td>37.5776</td>\n",
       "      <td>127.058</td>\n",
       "      <td>33.3068</td>\n",
       "      <td>0.266100</td>\n",
       "      <td>5863.555664</td>\n",
       "      <td>31.1</td>\n",
       "      <td>23.9</td>\n",
       "    </tr>\n",
       "    <tr>\n",
       "      <th>3</th>\n",
       "      <td>4.0</td>\n",
       "      <td>30-06-2013</td>\n",
       "      <td>32.0</td>\n",
       "      <td>23.4</td>\n",
       "      <td>58.239788</td>\n",
       "      <td>96.483688</td>\n",
       "      <td>29.704629</td>\n",
       "      <td>23.326177</td>\n",
       "      <td>5.650050</td>\n",
       "      <td>65.727144</td>\n",
       "      <td>...</td>\n",
       "      <td>0.000000</td>\n",
       "      <td>0.000000</td>\n",
       "      <td>0.000000</td>\n",
       "      <td>37.6450</td>\n",
       "      <td>127.022</td>\n",
       "      <td>45.7160</td>\n",
       "      <td>2.534800</td>\n",
       "      <td>5856.964844</td>\n",
       "      <td>31.7</td>\n",
       "      <td>24.3</td>\n",
       "    </tr>\n",
       "    <tr>\n",
       "      <th>4</th>\n",
       "      <td>5.0</td>\n",
       "      <td>30-06-2013</td>\n",
       "      <td>31.4</td>\n",
       "      <td>21.9</td>\n",
       "      <td>56.174095</td>\n",
       "      <td>90.155128</td>\n",
       "      <td>29.113934</td>\n",
       "      <td>23.486480</td>\n",
       "      <td>5.735004</td>\n",
       "      <td>107.965535</td>\n",
       "      <td>...</td>\n",
       "      <td>0.000000</td>\n",
       "      <td>0.000000</td>\n",
       "      <td>0.000000</td>\n",
       "      <td>37.5507</td>\n",
       "      <td>127.135</td>\n",
       "      <td>35.0380</td>\n",
       "      <td>0.505500</td>\n",
       "      <td>5859.552246</td>\n",
       "      <td>31.2</td>\n",
       "      <td>22.5</td>\n",
       "    </tr>\n",
       "    <tr>\n",
       "      <th>...</th>\n",
       "      <td>...</td>\n",
       "      <td>...</td>\n",
       "      <td>...</td>\n",
       "      <td>...</td>\n",
       "      <td>...</td>\n",
       "      <td>...</td>\n",
       "      <td>...</td>\n",
       "      <td>...</td>\n",
       "      <td>...</td>\n",
       "      <td>...</td>\n",
       "      <td>...</td>\n",
       "      <td>...</td>\n",
       "      <td>...</td>\n",
       "      <td>...</td>\n",
       "      <td>...</td>\n",
       "      <td>...</td>\n",
       "      <td>...</td>\n",
       "      <td>...</td>\n",
       "      <td>...</td>\n",
       "      <td>...</td>\n",
       "      <td>...</td>\n",
       "    </tr>\n",
       "    <tr>\n",
       "      <th>7747</th>\n",
       "      <td>23.0</td>\n",
       "      <td>30-08-2017</td>\n",
       "      <td>23.3</td>\n",
       "      <td>17.1</td>\n",
       "      <td>26.741310</td>\n",
       "      <td>78.869858</td>\n",
       "      <td>26.352081</td>\n",
       "      <td>18.775678</td>\n",
       "      <td>6.148918</td>\n",
       "      <td>72.058294</td>\n",
       "      <td>...</td>\n",
       "      <td>0.000000</td>\n",
       "      <td>0.000000</td>\n",
       "      <td>0.000000</td>\n",
       "      <td>37.5372</td>\n",
       "      <td>126.891</td>\n",
       "      <td>15.5876</td>\n",
       "      <td>0.155400</td>\n",
       "      <td>4443.313965</td>\n",
       "      <td>28.3</td>\n",
       "      <td>18.1</td>\n",
       "    </tr>\n",
       "    <tr>\n",
       "      <th>7748</th>\n",
       "      <td>24.0</td>\n",
       "      <td>30-08-2017</td>\n",
       "      <td>23.3</td>\n",
       "      <td>17.7</td>\n",
       "      <td>24.040634</td>\n",
       "      <td>77.294975</td>\n",
       "      <td>27.010193</td>\n",
       "      <td>18.733519</td>\n",
       "      <td>6.542819</td>\n",
       "      <td>47.241457</td>\n",
       "      <td>...</td>\n",
       "      <td>0.000000</td>\n",
       "      <td>0.000000</td>\n",
       "      <td>0.000000</td>\n",
       "      <td>37.5237</td>\n",
       "      <td>126.909</td>\n",
       "      <td>17.2956</td>\n",
       "      <td>0.222300</td>\n",
       "      <td>4438.373535</td>\n",
       "      <td>28.6</td>\n",
       "      <td>18.8</td>\n",
       "    </tr>\n",
       "    <tr>\n",
       "      <th>7749</th>\n",
       "      <td>25.0</td>\n",
       "      <td>30-08-2017</td>\n",
       "      <td>23.2</td>\n",
       "      <td>17.4</td>\n",
       "      <td>22.933014</td>\n",
       "      <td>77.243744</td>\n",
       "      <td>27.939516</td>\n",
       "      <td>18.522965</td>\n",
       "      <td>7.289264</td>\n",
       "      <td>9.090034</td>\n",
       "      <td>...</td>\n",
       "      <td>0.000000</td>\n",
       "      <td>0.000000</td>\n",
       "      <td>0.000000</td>\n",
       "      <td>37.5237</td>\n",
       "      <td>126.970</td>\n",
       "      <td>19.5844</td>\n",
       "      <td>0.271300</td>\n",
       "      <td>4451.345215</td>\n",
       "      <td>27.8</td>\n",
       "      <td>17.4</td>\n",
       "    </tr>\n",
       "    <tr>\n",
       "      <th>7750</th>\n",
       "      <td>NaN</td>\n",
       "      <td>NaN</td>\n",
       "      <td>20.0</td>\n",
       "      <td>11.3</td>\n",
       "      <td>19.794666</td>\n",
       "      <td>58.936283</td>\n",
       "      <td>17.624954</td>\n",
       "      <td>14.272646</td>\n",
       "      <td>2.882580</td>\n",
       "      <td>-13.603212</td>\n",
       "      <td>...</td>\n",
       "      <td>0.000000</td>\n",
       "      <td>0.000000</td>\n",
       "      <td>0.000000</td>\n",
       "      <td>37.4562</td>\n",
       "      <td>126.826</td>\n",
       "      <td>12.3700</td>\n",
       "      <td>0.098475</td>\n",
       "      <td>4329.520508</td>\n",
       "      <td>17.4</td>\n",
       "      <td>11.3</td>\n",
       "    </tr>\n",
       "    <tr>\n",
       "      <th>7751</th>\n",
       "      <td>NaN</td>\n",
       "      <td>NaN</td>\n",
       "      <td>37.6</td>\n",
       "      <td>29.9</td>\n",
       "      <td>98.524734</td>\n",
       "      <td>100.000153</td>\n",
       "      <td>38.542255</td>\n",
       "      <td>29.619342</td>\n",
       "      <td>21.857621</td>\n",
       "      <td>213.414006</td>\n",
       "      <td>...</td>\n",
       "      <td>21.621661</td>\n",
       "      <td>15.841235</td>\n",
       "      <td>16.655469</td>\n",
       "      <td>37.6450</td>\n",
       "      <td>127.135</td>\n",
       "      <td>212.3350</td>\n",
       "      <td>5.178230</td>\n",
       "      <td>5992.895996</td>\n",
       "      <td>38.9</td>\n",
       "      <td>29.8</td>\n",
       "    </tr>\n",
       "  </tbody>\n",
       "</table>\n",
       "<p>7752 rows × 25 columns</p>\n",
       "</div>"
      ],
      "text/plain": [
       "      station        Date  Present_Tmax  Present_Tmin  LDAPS_RHmin  \\\n",
       "0         1.0  30-06-2013          28.7          21.4    58.255688   \n",
       "1         2.0  30-06-2013          31.9          21.6    52.263397   \n",
       "2         3.0  30-06-2013          31.6          23.3    48.690479   \n",
       "3         4.0  30-06-2013          32.0          23.4    58.239788   \n",
       "4         5.0  30-06-2013          31.4          21.9    56.174095   \n",
       "...       ...         ...           ...           ...          ...   \n",
       "7747     23.0  30-08-2017          23.3          17.1    26.741310   \n",
       "7748     24.0  30-08-2017          23.3          17.7    24.040634   \n",
       "7749     25.0  30-08-2017          23.2          17.4    22.933014   \n",
       "7750      NaN         NaN          20.0          11.3    19.794666   \n",
       "7751      NaN         NaN          37.6          29.9    98.524734   \n",
       "\n",
       "      LDAPS_RHmax  LDAPS_Tmax_lapse  LDAPS_Tmin_lapse   LDAPS_WS    LDAPS_LH  \\\n",
       "0       91.116364         28.074101         23.006936   6.818887   69.451805   \n",
       "1       90.604721         29.850689         24.035009   5.691890   51.937448   \n",
       "2       83.973587         30.091292         24.565633   6.138224   20.573050   \n",
       "3       96.483688         29.704629         23.326177   5.650050   65.727144   \n",
       "4       90.155128         29.113934         23.486480   5.735004  107.965535   \n",
       "...           ...               ...               ...        ...         ...   \n",
       "7747    78.869858         26.352081         18.775678   6.148918   72.058294   \n",
       "7748    77.294975         27.010193         18.733519   6.542819   47.241457   \n",
       "7749    77.243744         27.939516         18.522965   7.289264    9.090034   \n",
       "7750    58.936283         17.624954         14.272646   2.882580  -13.603212   \n",
       "7751   100.000153         38.542255         29.619342  21.857621  213.414006   \n",
       "\n",
       "      ...  LDAPS_PPT2  LDAPS_PPT3  LDAPS_PPT4      lat      lon       DEM  \\\n",
       "0     ...    0.000000    0.000000    0.000000  37.6046  126.991  212.3350   \n",
       "1     ...    0.000000    0.000000    0.000000  37.6046  127.032   44.7624   \n",
       "2     ...    0.000000    0.000000    0.000000  37.5776  127.058   33.3068   \n",
       "3     ...    0.000000    0.000000    0.000000  37.6450  127.022   45.7160   \n",
       "4     ...    0.000000    0.000000    0.000000  37.5507  127.135   35.0380   \n",
       "...   ...         ...         ...         ...      ...      ...       ...   \n",
       "7747  ...    0.000000    0.000000    0.000000  37.5372  126.891   15.5876   \n",
       "7748  ...    0.000000    0.000000    0.000000  37.5237  126.909   17.2956   \n",
       "7749  ...    0.000000    0.000000    0.000000  37.5237  126.970   19.5844   \n",
       "7750  ...    0.000000    0.000000    0.000000  37.4562  126.826   12.3700   \n",
       "7751  ...   21.621661   15.841235   16.655469  37.6450  127.135  212.3350   \n",
       "\n",
       "         Slope  Solar radiation  Next_Tmax  Next_Tmin  \n",
       "0     2.785000      5992.895996       29.1       21.2  \n",
       "1     0.514100      5869.312500       30.5       22.5  \n",
       "2     0.266100      5863.555664       31.1       23.9  \n",
       "3     2.534800      5856.964844       31.7       24.3  \n",
       "4     0.505500      5859.552246       31.2       22.5  \n",
       "...        ...              ...        ...        ...  \n",
       "7747  0.155400      4443.313965       28.3       18.1  \n",
       "7748  0.222300      4438.373535       28.6       18.8  \n",
       "7749  0.271300      4451.345215       27.8       17.4  \n",
       "7750  0.098475      4329.520508       17.4       11.3  \n",
       "7751  5.178230      5992.895996       38.9       29.8  \n",
       "\n",
       "[7752 rows x 25 columns]"
      ]
     },
     "execution_count": 2,
     "metadata": {},
     "output_type": "execute_result"
    }
   ],
   "source": [
    "df=pd.read_csv(\"temperature.csv\")\n",
    "df"
   ]
  },
  {
   "cell_type": "code",
   "execution_count": 3,
   "id": "f8216b6e",
   "metadata": {},
   "outputs": [
    {
     "data": {
      "text/plain": [
       "(7752, 25)"
      ]
     },
     "execution_count": 3,
     "metadata": {},
     "output_type": "execute_result"
    }
   ],
   "source": [
    "df.shape"
   ]
  },
  {
   "cell_type": "markdown",
   "id": "6233b39c",
   "metadata": {},
   "source": [
    "There are 7752 rows and 25 columns in our dataset."
   ]
  },
  {
   "cell_type": "code",
   "execution_count": 4,
   "id": "9b711d0b",
   "metadata": {},
   "outputs": [
    {
     "data": {
      "text/plain": [
       "Index(['station', 'Date', 'Present_Tmax', 'Present_Tmin', 'LDAPS_RHmin',\n",
       "       'LDAPS_RHmax', 'LDAPS_Tmax_lapse', 'LDAPS_Tmin_lapse', 'LDAPS_WS',\n",
       "       'LDAPS_LH', 'LDAPS_CC1', 'LDAPS_CC2', 'LDAPS_CC3', 'LDAPS_CC4',\n",
       "       'LDAPS_PPT1', 'LDAPS_PPT2', 'LDAPS_PPT3', 'LDAPS_PPT4', 'lat', 'lon',\n",
       "       'DEM', 'Slope', 'Solar radiation', 'Next_Tmax', 'Next_Tmin'],\n",
       "      dtype='object')"
      ]
     },
     "execution_count": 4,
     "metadata": {},
     "output_type": "execute_result"
    }
   ],
   "source": [
    "df.columns"
   ]
  },
  {
   "cell_type": "markdown",
   "id": "b0fa76ec",
   "metadata": {},
   "source": [
    "here we can see the column of the datasets"
   ]
  },
  {
   "cell_type": "code",
   "execution_count": 5,
   "id": "bbab659e",
   "metadata": {},
   "outputs": [
    {
     "data": {
      "text/plain": [
       "station             float64\n",
       "Date                 object\n",
       "Present_Tmax        float64\n",
       "Present_Tmin        float64\n",
       "LDAPS_RHmin         float64\n",
       "LDAPS_RHmax         float64\n",
       "LDAPS_Tmax_lapse    float64\n",
       "LDAPS_Tmin_lapse    float64\n",
       "LDAPS_WS            float64\n",
       "LDAPS_LH            float64\n",
       "LDAPS_CC1           float64\n",
       "LDAPS_CC2           float64\n",
       "LDAPS_CC3           float64\n",
       "LDAPS_CC4           float64\n",
       "LDAPS_PPT1          float64\n",
       "LDAPS_PPT2          float64\n",
       "LDAPS_PPT3          float64\n",
       "LDAPS_PPT4          float64\n",
       "lat                 float64\n",
       "lon                 float64\n",
       "DEM                 float64\n",
       "Slope               float64\n",
       "Solar radiation     float64\n",
       "Next_Tmax           float64\n",
       "Next_Tmin           float64\n",
       "dtype: object"
      ]
     },
     "execution_count": 5,
     "metadata": {},
     "output_type": "execute_result"
    }
   ],
   "source": [
    "df.dtypes"
   ]
  },
  {
   "cell_type": "markdown",
   "id": "56e5ccb0",
   "metadata": {},
   "source": [
    "date is object ype except that rest is float data types"
   ]
  },
  {
   "cell_type": "code",
   "execution_count": 6,
   "id": "638db0a8",
   "metadata": {},
   "outputs": [
    {
     "name": "stdout",
     "output_type": "stream",
     "text": [
      "<class 'pandas.core.frame.DataFrame'>\n",
      "RangeIndex: 7752 entries, 0 to 7751\n",
      "Data columns (total 25 columns):\n",
      " #   Column            Non-Null Count  Dtype  \n",
      "---  ------            --------------  -----  \n",
      " 0   station           7750 non-null   float64\n",
      " 1   Date              7750 non-null   object \n",
      " 2   Present_Tmax      7682 non-null   float64\n",
      " 3   Present_Tmin      7682 non-null   float64\n",
      " 4   LDAPS_RHmin       7677 non-null   float64\n",
      " 5   LDAPS_RHmax       7677 non-null   float64\n",
      " 6   LDAPS_Tmax_lapse  7677 non-null   float64\n",
      " 7   LDAPS_Tmin_lapse  7677 non-null   float64\n",
      " 8   LDAPS_WS          7677 non-null   float64\n",
      " 9   LDAPS_LH          7677 non-null   float64\n",
      " 10  LDAPS_CC1         7677 non-null   float64\n",
      " 11  LDAPS_CC2         7677 non-null   float64\n",
      " 12  LDAPS_CC3         7677 non-null   float64\n",
      " 13  LDAPS_CC4         7677 non-null   float64\n",
      " 14  LDAPS_PPT1        7677 non-null   float64\n",
      " 15  LDAPS_PPT2        7677 non-null   float64\n",
      " 16  LDAPS_PPT3        7677 non-null   float64\n",
      " 17  LDAPS_PPT4        7677 non-null   float64\n",
      " 18  lat               7752 non-null   float64\n",
      " 19  lon               7752 non-null   float64\n",
      " 20  DEM               7752 non-null   float64\n",
      " 21  Slope             7752 non-null   float64\n",
      " 22  Solar radiation   7752 non-null   float64\n",
      " 23  Next_Tmax         7725 non-null   float64\n",
      " 24  Next_Tmin         7725 non-null   float64\n",
      "dtypes: float64(24), object(1)\n",
      "memory usage: 1.5+ MB\n"
     ]
    }
   ],
   "source": [
    "df.info()"
   ]
  },
  {
   "cell_type": "markdown",
   "id": "07fe7919",
   "metadata": {},
   "source": [
    "here we  have  null value present.it's datatype and total memory usage."
   ]
  },
  {
   "cell_type": "code",
   "execution_count": 7,
   "id": "902a38fa",
   "metadata": {},
   "outputs": [
    {
     "data": {
      "text/html": [
       "<div>\n",
       "<style scoped>\n",
       "    .dataframe tbody tr th:only-of-type {\n",
       "        vertical-align: middle;\n",
       "    }\n",
       "\n",
       "    .dataframe tbody tr th {\n",
       "        vertical-align: top;\n",
       "    }\n",
       "\n",
       "    .dataframe thead th {\n",
       "        text-align: right;\n",
       "    }\n",
       "</style>\n",
       "<table border=\"1\" class=\"dataframe\">\n",
       "  <thead>\n",
       "    <tr style=\"text-align: right;\">\n",
       "      <th></th>\n",
       "      <th>station</th>\n",
       "      <th>Present_Tmax</th>\n",
       "      <th>Present_Tmin</th>\n",
       "      <th>LDAPS_RHmin</th>\n",
       "      <th>LDAPS_RHmax</th>\n",
       "      <th>LDAPS_Tmax_lapse</th>\n",
       "      <th>LDAPS_Tmin_lapse</th>\n",
       "      <th>LDAPS_WS</th>\n",
       "      <th>LDAPS_LH</th>\n",
       "      <th>LDAPS_CC1</th>\n",
       "      <th>...</th>\n",
       "      <th>LDAPS_PPT2</th>\n",
       "      <th>LDAPS_PPT3</th>\n",
       "      <th>LDAPS_PPT4</th>\n",
       "      <th>lat</th>\n",
       "      <th>lon</th>\n",
       "      <th>DEM</th>\n",
       "      <th>Slope</th>\n",
       "      <th>Solar radiation</th>\n",
       "      <th>Next_Tmax</th>\n",
       "      <th>Next_Tmin</th>\n",
       "    </tr>\n",
       "  </thead>\n",
       "  <tbody>\n",
       "    <tr>\n",
       "      <th>count</th>\n",
       "      <td>7750.000000</td>\n",
       "      <td>7682.000000</td>\n",
       "      <td>7682.000000</td>\n",
       "      <td>7677.000000</td>\n",
       "      <td>7677.000000</td>\n",
       "      <td>7677.000000</td>\n",
       "      <td>7677.000000</td>\n",
       "      <td>7677.000000</td>\n",
       "      <td>7677.000000</td>\n",
       "      <td>7677.000000</td>\n",
       "      <td>...</td>\n",
       "      <td>7677.000000</td>\n",
       "      <td>7677.000000</td>\n",
       "      <td>7677.000000</td>\n",
       "      <td>7752.000000</td>\n",
       "      <td>7752.000000</td>\n",
       "      <td>7752.000000</td>\n",
       "      <td>7752.000000</td>\n",
       "      <td>7752.000000</td>\n",
       "      <td>7725.000000</td>\n",
       "      <td>7725.000000</td>\n",
       "    </tr>\n",
       "    <tr>\n",
       "      <th>mean</th>\n",
       "      <td>13.000000</td>\n",
       "      <td>29.768211</td>\n",
       "      <td>23.225059</td>\n",
       "      <td>56.759372</td>\n",
       "      <td>88.374804</td>\n",
       "      <td>29.613447</td>\n",
       "      <td>23.512589</td>\n",
       "      <td>7.097875</td>\n",
       "      <td>62.505019</td>\n",
       "      <td>0.368774</td>\n",
       "      <td>...</td>\n",
       "      <td>0.485003</td>\n",
       "      <td>0.278200</td>\n",
       "      <td>0.269407</td>\n",
       "      <td>37.544722</td>\n",
       "      <td>126.991397</td>\n",
       "      <td>61.867972</td>\n",
       "      <td>1.257048</td>\n",
       "      <td>5341.502803</td>\n",
       "      <td>30.274887</td>\n",
       "      <td>22.932220</td>\n",
       "    </tr>\n",
       "    <tr>\n",
       "      <th>std</th>\n",
       "      <td>7.211568</td>\n",
       "      <td>2.969999</td>\n",
       "      <td>2.413961</td>\n",
       "      <td>14.668111</td>\n",
       "      <td>7.192004</td>\n",
       "      <td>2.947191</td>\n",
       "      <td>2.345347</td>\n",
       "      <td>2.183836</td>\n",
       "      <td>33.730589</td>\n",
       "      <td>0.262458</td>\n",
       "      <td>...</td>\n",
       "      <td>1.762807</td>\n",
       "      <td>1.161809</td>\n",
       "      <td>1.206214</td>\n",
       "      <td>0.050352</td>\n",
       "      <td>0.079435</td>\n",
       "      <td>54.279780</td>\n",
       "      <td>1.370444</td>\n",
       "      <td>429.158867</td>\n",
       "      <td>3.128010</td>\n",
       "      <td>2.487613</td>\n",
       "    </tr>\n",
       "    <tr>\n",
       "      <th>min</th>\n",
       "      <td>1.000000</td>\n",
       "      <td>20.000000</td>\n",
       "      <td>11.300000</td>\n",
       "      <td>19.794666</td>\n",
       "      <td>58.936283</td>\n",
       "      <td>17.624954</td>\n",
       "      <td>14.272646</td>\n",
       "      <td>2.882580</td>\n",
       "      <td>-13.603212</td>\n",
       "      <td>0.000000</td>\n",
       "      <td>...</td>\n",
       "      <td>0.000000</td>\n",
       "      <td>0.000000</td>\n",
       "      <td>0.000000</td>\n",
       "      <td>37.456200</td>\n",
       "      <td>126.826000</td>\n",
       "      <td>12.370000</td>\n",
       "      <td>0.098475</td>\n",
       "      <td>4329.520508</td>\n",
       "      <td>17.400000</td>\n",
       "      <td>11.300000</td>\n",
       "    </tr>\n",
       "    <tr>\n",
       "      <th>25%</th>\n",
       "      <td>7.000000</td>\n",
       "      <td>27.800000</td>\n",
       "      <td>21.700000</td>\n",
       "      <td>45.963543</td>\n",
       "      <td>84.222862</td>\n",
       "      <td>27.673499</td>\n",
       "      <td>22.089739</td>\n",
       "      <td>5.678705</td>\n",
       "      <td>37.266753</td>\n",
       "      <td>0.146654</td>\n",
       "      <td>...</td>\n",
       "      <td>0.000000</td>\n",
       "      <td>0.000000</td>\n",
       "      <td>0.000000</td>\n",
       "      <td>37.510200</td>\n",
       "      <td>126.937000</td>\n",
       "      <td>28.700000</td>\n",
       "      <td>0.271300</td>\n",
       "      <td>4999.018555</td>\n",
       "      <td>28.200000</td>\n",
       "      <td>21.300000</td>\n",
       "    </tr>\n",
       "    <tr>\n",
       "      <th>50%</th>\n",
       "      <td>13.000000</td>\n",
       "      <td>29.900000</td>\n",
       "      <td>23.400000</td>\n",
       "      <td>55.039024</td>\n",
       "      <td>89.793480</td>\n",
       "      <td>29.703426</td>\n",
       "      <td>23.760199</td>\n",
       "      <td>6.547470</td>\n",
       "      <td>56.865482</td>\n",
       "      <td>0.315697</td>\n",
       "      <td>...</td>\n",
       "      <td>0.000000</td>\n",
       "      <td>0.000000</td>\n",
       "      <td>0.000000</td>\n",
       "      <td>37.550700</td>\n",
       "      <td>126.995000</td>\n",
       "      <td>45.716000</td>\n",
       "      <td>0.618000</td>\n",
       "      <td>5436.345215</td>\n",
       "      <td>30.500000</td>\n",
       "      <td>23.100000</td>\n",
       "    </tr>\n",
       "    <tr>\n",
       "      <th>75%</th>\n",
       "      <td>19.000000</td>\n",
       "      <td>32.000000</td>\n",
       "      <td>24.900000</td>\n",
       "      <td>67.190056</td>\n",
       "      <td>93.743629</td>\n",
       "      <td>31.710450</td>\n",
       "      <td>25.152909</td>\n",
       "      <td>8.032276</td>\n",
       "      <td>84.223616</td>\n",
       "      <td>0.575489</td>\n",
       "      <td>...</td>\n",
       "      <td>0.018364</td>\n",
       "      <td>0.007896</td>\n",
       "      <td>0.000041</td>\n",
       "      <td>37.577600</td>\n",
       "      <td>127.042000</td>\n",
       "      <td>59.832400</td>\n",
       "      <td>1.767800</td>\n",
       "      <td>5728.316406</td>\n",
       "      <td>32.600000</td>\n",
       "      <td>24.600000</td>\n",
       "    </tr>\n",
       "    <tr>\n",
       "      <th>max</th>\n",
       "      <td>25.000000</td>\n",
       "      <td>37.600000</td>\n",
       "      <td>29.900000</td>\n",
       "      <td>98.524734</td>\n",
       "      <td>100.000153</td>\n",
       "      <td>38.542255</td>\n",
       "      <td>29.619342</td>\n",
       "      <td>21.857621</td>\n",
       "      <td>213.414006</td>\n",
       "      <td>0.967277</td>\n",
       "      <td>...</td>\n",
       "      <td>21.621661</td>\n",
       "      <td>15.841235</td>\n",
       "      <td>16.655469</td>\n",
       "      <td>37.645000</td>\n",
       "      <td>127.135000</td>\n",
       "      <td>212.335000</td>\n",
       "      <td>5.178230</td>\n",
       "      <td>5992.895996</td>\n",
       "      <td>38.900000</td>\n",
       "      <td>29.800000</td>\n",
       "    </tr>\n",
       "  </tbody>\n",
       "</table>\n",
       "<p>8 rows × 24 columns</p>\n",
       "</div>"
      ],
      "text/plain": [
       "           station  Present_Tmax  Present_Tmin  LDAPS_RHmin  LDAPS_RHmax  \\\n",
       "count  7750.000000   7682.000000   7682.000000  7677.000000  7677.000000   \n",
       "mean     13.000000     29.768211     23.225059    56.759372    88.374804   \n",
       "std       7.211568      2.969999      2.413961    14.668111     7.192004   \n",
       "min       1.000000     20.000000     11.300000    19.794666    58.936283   \n",
       "25%       7.000000     27.800000     21.700000    45.963543    84.222862   \n",
       "50%      13.000000     29.900000     23.400000    55.039024    89.793480   \n",
       "75%      19.000000     32.000000     24.900000    67.190056    93.743629   \n",
       "max      25.000000     37.600000     29.900000    98.524734   100.000153   \n",
       "\n",
       "       LDAPS_Tmax_lapse  LDAPS_Tmin_lapse     LDAPS_WS     LDAPS_LH  \\\n",
       "count       7677.000000       7677.000000  7677.000000  7677.000000   \n",
       "mean          29.613447         23.512589     7.097875    62.505019   \n",
       "std            2.947191          2.345347     2.183836    33.730589   \n",
       "min           17.624954         14.272646     2.882580   -13.603212   \n",
       "25%           27.673499         22.089739     5.678705    37.266753   \n",
       "50%           29.703426         23.760199     6.547470    56.865482   \n",
       "75%           31.710450         25.152909     8.032276    84.223616   \n",
       "max           38.542255         29.619342    21.857621   213.414006   \n",
       "\n",
       "         LDAPS_CC1  ...   LDAPS_PPT2   LDAPS_PPT3   LDAPS_PPT4          lat  \\\n",
       "count  7677.000000  ...  7677.000000  7677.000000  7677.000000  7752.000000   \n",
       "mean      0.368774  ...     0.485003     0.278200     0.269407    37.544722   \n",
       "std       0.262458  ...     1.762807     1.161809     1.206214     0.050352   \n",
       "min       0.000000  ...     0.000000     0.000000     0.000000    37.456200   \n",
       "25%       0.146654  ...     0.000000     0.000000     0.000000    37.510200   \n",
       "50%       0.315697  ...     0.000000     0.000000     0.000000    37.550700   \n",
       "75%       0.575489  ...     0.018364     0.007896     0.000041    37.577600   \n",
       "max       0.967277  ...    21.621661    15.841235    16.655469    37.645000   \n",
       "\n",
       "               lon          DEM        Slope  Solar radiation    Next_Tmax  \\\n",
       "count  7752.000000  7752.000000  7752.000000      7752.000000  7725.000000   \n",
       "mean    126.991397    61.867972     1.257048      5341.502803    30.274887   \n",
       "std       0.079435    54.279780     1.370444       429.158867     3.128010   \n",
       "min     126.826000    12.370000     0.098475      4329.520508    17.400000   \n",
       "25%     126.937000    28.700000     0.271300      4999.018555    28.200000   \n",
       "50%     126.995000    45.716000     0.618000      5436.345215    30.500000   \n",
       "75%     127.042000    59.832400     1.767800      5728.316406    32.600000   \n",
       "max     127.135000   212.335000     5.178230      5992.895996    38.900000   \n",
       "\n",
       "         Next_Tmin  \n",
       "count  7725.000000  \n",
       "mean     22.932220  \n",
       "std       2.487613  \n",
       "min      11.300000  \n",
       "25%      21.300000  \n",
       "50%      23.100000  \n",
       "75%      24.600000  \n",
       "max      29.800000  \n",
       "\n",
       "[8 rows x 24 columns]"
      ]
     },
     "execution_count": 7,
     "metadata": {},
     "output_type": "execute_result"
    }
   ],
   "source": [
    "df.describe()"
   ]
  },
  {
   "cell_type": "markdown",
   "id": "0dd41c25",
   "metadata": {},
   "source": [
    "It gives us the mean , standard deviation , median , minimum and maximum values of each column."
   ]
  },
  {
   "cell_type": "code",
   "execution_count": 8,
   "id": "6811a971",
   "metadata": {},
   "outputs": [
    {
     "data": {
      "text/plain": [
       "station              2\n",
       "Date                 2\n",
       "Present_Tmax        70\n",
       "Present_Tmin        70\n",
       "LDAPS_RHmin         75\n",
       "LDAPS_RHmax         75\n",
       "LDAPS_Tmax_lapse    75\n",
       "LDAPS_Tmin_lapse    75\n",
       "LDAPS_WS            75\n",
       "LDAPS_LH            75\n",
       "LDAPS_CC1           75\n",
       "LDAPS_CC2           75\n",
       "LDAPS_CC3           75\n",
       "LDAPS_CC4           75\n",
       "LDAPS_PPT1          75\n",
       "LDAPS_PPT2          75\n",
       "LDAPS_PPT3          75\n",
       "LDAPS_PPT4          75\n",
       "lat                  0\n",
       "lon                  0\n",
       "DEM                  0\n",
       "Slope                0\n",
       "Solar radiation      0\n",
       "Next_Tmax           27\n",
       "Next_Tmin           27\n",
       "dtype: int64"
      ]
     },
     "execution_count": 8,
     "metadata": {},
     "output_type": "execute_result"
    }
   ],
   "source": [
    "df.isnull().sum()"
   ]
  },
  {
   "cell_type": "markdown",
   "id": "d56d5304",
   "metadata": {},
   "source": [
    "There are null values in 20 columns. We will have to treat them using mean or median depending uopn their distribution and skewness."
   ]
  },
  {
   "cell_type": "code",
   "execution_count": 9,
   "id": "04745def",
   "metadata": {},
   "outputs": [
    {
     "data": {
      "text/plain": [
       "<AxesSubplot:>"
      ]
     },
     "execution_count": 9,
     "metadata": {},
     "output_type": "execute_result"
    },
    {
     "data": {
      "image/png": "[encoded data removed]",
      "text/plain": [
       "<Figure size 432x288 with 2 Axes>"
      ]
     },
     "metadata": {
      "needs_background": "light"
     },
     "output_type": "display_data"
    }
   ],
   "source": [
    "sns.heatmap(df.isnull())"
   ]
  },
  {
   "cell_type": "markdown",
   "id": "8ec64c52",
   "metadata": {},
   "source": [
    "plot grph to see the null values"
   ]
  },
  {
   "cell_type": "code",
   "execution_count": 10,
   "id": "5fa74289",
   "metadata": {},
   "outputs": [
    {
     "data": {
      "text/plain": [
       "station               25\n",
       "Date                 310\n",
       "Present_Tmax         167\n",
       "Present_Tmin         155\n",
       "LDAPS_RHmin         7672\n",
       "LDAPS_RHmax         7664\n",
       "LDAPS_Tmax_lapse    7675\n",
       "LDAPS_Tmin_lapse    7675\n",
       "LDAPS_WS            7675\n",
       "LDAPS_LH            7675\n",
       "LDAPS_CC1           7569\n",
       "LDAPS_CC2           7582\n",
       "LDAPS_CC3           7599\n",
       "LDAPS_CC4           7524\n",
       "LDAPS_PPT1          2812\n",
       "LDAPS_PPT2          2510\n",
       "LDAPS_PPT3          2356\n",
       "LDAPS_PPT4          1918\n",
       "lat                   12\n",
       "lon                   25\n",
       "DEM                   25\n",
       "Slope                 27\n",
       "Solar radiation     1575\n",
       "Next_Tmax            183\n",
       "Next_Tmin            157\n",
       "dtype: int64"
      ]
     },
     "execution_count": 10,
     "metadata": {},
     "output_type": "execute_result"
    }
   ],
   "source": [
    "df.nunique()"
   ]
  },
  {
   "cell_type": "markdown",
   "id": "2f296831",
   "metadata": {},
   "source": [
    "here we can see unique values of datasets"
   ]
  },
  {
   "cell_type": "code",
   "execution_count": 11,
   "id": "a169fb1e",
   "metadata": {},
   "outputs": [],
   "source": [
    "df.drop(['station','Date'],1,inplace=True)"
   ]
  },
  {
   "cell_type": "markdown",
   "id": "76ea447a",
   "metadata": {},
   "source": [
    "# EDA"
   ]
  },
  {
   "cell_type": "code",
   "execution_count": 12,
   "id": "67c07c60",
   "metadata": {},
   "outputs": [
    {
     "data": {
      "text/plain": [
       "<AxesSubplot:xlabel='Next_Tmax'>"
      ]
     },
     "execution_count": 12,
     "metadata": {},
     "output_type": "execute_result"
    },
    {
     "data": {
      "image/png": "[encoded data removed]",
      "text/plain": [
       "<Figure size 432x288 with 1 Axes>"
      ]
     },
     "metadata": {
      "needs_background": "light"
     },
     "output_type": "display_data"
    }
   ],
   "source": [
    "sns.boxplot(df['Next_Tmax'])"
   ]
  },
  {
   "cell_type": "markdown",
   "id": "89948fff",
   "metadata": {},
   "source": [
    "here we can see that outliers are present"
   ]
  },
  {
   "cell_type": "code",
   "execution_count": 13,
   "id": "63603445",
   "metadata": {},
   "outputs": [
    {
     "data": {
      "text/plain": [
       "<AxesSubplot:xlabel='Next_Tmin'>"
      ]
     },
     "execution_count": 13,
     "metadata": {},
     "output_type": "execute_result"
    },
    {
     "data": {
      "image/png": "[encoded data removed]",
      "text/plain": [
       "<Figure size 432x288 with 1 Axes>"
      ]
     },
     "metadata": {
      "needs_background": "light"
     },
     "output_type": "display_data"
    }
   ],
   "source": [
    "sns.boxplot(df['Next_Tmin'])"
   ]
  },
  {
   "cell_type": "markdown",
   "id": "9aa2ddab",
   "metadata": {},
   "source": [
    "here we can see outliers are present"
   ]
  },
  {
   "cell_type": "code",
   "execution_count": 14,
   "id": "870c9b2d",
   "metadata": {},
   "outputs": [
    {
     "data": {
      "image/png": "[encoded data removed]",
      "text/plain": [
       "<Figure size 720x1080 with 25 Axes>"
      ]
     },
     "metadata": {
      "needs_background": "light"
     },
     "output_type": "display_data"
    }
   ],
   "source": [
    "df.hist(figsize=(10,15),color = 'green');"
   ]
  },
  {
   "cell_type": "markdown",
   "id": "3ca840a7",
   "metadata": {},
   "source": [
    "here we can see the values of the dataset which is highest,low,more distributed"
   ]
  },
  {
   "cell_type": "code",
   "execution_count": 15,
   "id": "7d411773",
   "metadata": {},
   "outputs": [
    {
     "data": {
      "image/png": "[encoded data removed]",
      "text/plain": [
       "<Figure size 360x360 with 1 Axes>"
      ]
     },
     "metadata": {
      "needs_background": "light"
     },
     "output_type": "display_data"
    }
   ],
   "source": [
    "#Set up a category plot\n",
    "g=sns.catplot(x=\"LDAPS_WS\",y=\"Next_Tmax\",data=df,kind=\"violin\")\n",
    "#show plot\n",
    "plt.show()"
   ]
  },
  {
   "cell_type": "markdown",
   "id": "a5a1f2b2",
   "metadata": {},
   "source": [
    "here we can see value is scattered between 20-30"
   ]
  },
  {
   "cell_type": "code",
   "execution_count": 16,
   "id": "a8f80c78",
   "metadata": {},
   "outputs": [
    {
     "data": {
      "text/plain": [
       "29.3    113\n",
       "33.0    106\n",
       "31.3    104\n",
       "29.6    101\n",
       "31.2     98\n",
       "       ... \n",
       "20.9      1\n",
       "18.9      1\n",
       "18.6      1\n",
       "37.4      1\n",
       "19.7      1\n",
       "Name: Next_Tmax, Length: 183, dtype: int64"
      ]
     },
     "execution_count": 16,
     "metadata": {},
     "output_type": "execute_result"
    }
   ],
   "source": [
    "df['Next_Tmax'].value_counts()"
   ]
  },
  {
   "cell_type": "markdown",
   "id": "2b44fe7b",
   "metadata": {},
   "source": [
    "here we can see the value count of target value"
   ]
  },
  {
   "cell_type": "code",
   "execution_count": 17,
   "id": "03b03b3f",
   "metadata": {},
   "outputs": [
    {
     "data": {
      "text/plain": [
       "23.5    159\n",
       "23.4    157\n",
       "24.0    156\n",
       "23.2    150\n",
       "23.8    149\n",
       "       ... \n",
       "13.6      1\n",
       "12.9      1\n",
       "28.2      1\n",
       "29.5      1\n",
       "13.4      1\n",
       "Name: Next_Tmin, Length: 157, dtype: int64"
      ]
     },
     "execution_count": 17,
     "metadata": {},
     "output_type": "execute_result"
    }
   ],
   "source": [
    "df['Next_Tmin'].value_counts()          "
   ]
  },
  {
   "cell_type": "markdown",
   "id": "354bd20e",
   "metadata": {},
   "source": [
    "here we can see the value count of target value"
   ]
  },
  {
   "cell_type": "code",
   "execution_count": 18,
   "id": "c5403ae4",
   "metadata": {},
   "outputs": [
    {
     "data": {
      "text/plain": [
       "<AxesSubplot:xlabel='Next_Tmin', ylabel='count'>"
      ]
     },
     "execution_count": 18,
     "metadata": {},
     "output_type": "execute_result"
    },
    {
     "data": {
      "image/png": "[encoded data removed]",
      "text/plain": [
       "<Figure size 432x288 with 1 Axes>"
      ]
     },
     "metadata": {
      "needs_background": "light"
     },
     "output_type": "display_data"
    }
   ],
   "source": [
    "sns.countplot(df.Next_Tmin)"
   ]
  },
  {
   "cell_type": "markdown",
   "id": "fc396f2c",
   "metadata": {},
   "source": [
    "here we can see that between values are more than anything"
   ]
  },
  {
   "cell_type": "code",
   "execution_count": 19,
   "id": "c547453d",
   "metadata": {},
   "outputs": [
    {
     "data": {
      "text/plain": [
       "<AxesSubplot:xlabel='Next_Tmin', ylabel='count'>"
      ]
     },
     "execution_count": 19,
     "metadata": {},
     "output_type": "execute_result"
    },
    {
     "data": {
      "image/png": "[encoded data removed]",
      "text/plain": [
       "<Figure size 432x288 with 1 Axes>"
      ]
     },
     "metadata": {
      "needs_background": "light"
     },
     "output_type": "display_data"
    }
   ],
   "source": [
    "sns.countplot(df.Next_Tmin)"
   ]
  },
  {
   "cell_type": "markdown",
   "id": "812cf241",
   "metadata": {},
   "source": [
    "here we can see that between values are more than anything "
   ]
  },
  {
   "cell_type": "code",
   "execution_count": null,
   "id": "4f08dda3",
   "metadata": {},
   "outputs": [],
   "source": [
    "ax=sns.stripplot(x=\"LDAPS_RHmin\",y=\"Next_Tmin\",data=df)\n",
    "plt.title(\"graph\")\n",
    "plt.show()"
   ]
  },
  {
   "cell_type": "code",
   "execution_count": null,
   "id": "a56714b5",
   "metadata": {},
   "outputs": [],
   "source": []
  },
  {
   "cell_type": "code",
   "execution_count": null,
   "id": "24156e51",
   "metadata": {},
   "outputs": [],
   "source": [
    "sns.factorplot(data=df,kind='bar',x='Slope',y='Next_Tmin')"
   ]
  },
  {
   "cell_type": "code",
   "execution_count": null,
   "id": "2a2bd5c3",
   "metadata": {},
   "outputs": [],
   "source": []
  },
  {
   "cell_type": "code",
   "execution_count": null,
   "id": "b84e65f8",
   "metadata": {},
   "outputs": [],
   "source": [
    "sns.distplot(df['Next_Tmax'])"
   ]
  },
  {
   "cell_type": "markdown",
   "id": "caff1492",
   "metadata": {},
   "source": [
    "This column has almost normal distribution. "
   ]
  },
  {
   "cell_type": "code",
   "execution_count": null,
   "id": "6cb4d3bd",
   "metadata": {},
   "outputs": [],
   "source": [
    "sn.distplot(df['Next_Tmin'])"
   ]
  },
  {
   "cell_type": "markdown",
   "id": "f3aef32c",
   "metadata": {},
   "source": [
    "This column has almost normal distribution."
   ]
  },
  {
   "cell_type": "code",
   "execution_count": null,
   "id": "fd3ec06c",
   "metadata": {},
   "outputs": [],
   "source": [
    "for i in df.describe().columns:\n",
    "    sns.boxplot(df[i])\n",
    "    plt.show()"
   ]
  },
  {
   "cell_type": "markdown",
   "id": "f522aab3",
   "metadata": {},
   "source": [
    "We can observe that we have outliear and kweness present but not in every columns.Few only have outliears"
   ]
  },
  {
   "cell_type": "code",
   "execution_count": null,
   "id": "3e4b7ef0",
   "metadata": {},
   "outputs": [],
   "source": [
    "for i in df.columns:\n",
    "    sns.distplot(df[i])\n",
    "    plt.show()"
   ]
  },
  {
   "cell_type": "code",
   "execution_count": null,
   "id": "0fd8fa4e",
   "metadata": {},
   "outputs": [],
   "source": []
  },
  {
   "cell_type": "code",
   "execution_count": null,
   "id": "77e191ec",
   "metadata": {},
   "outputs": [],
   "source": [
    "sns.scatterplot(y=df['station'], x=df['Next_Tmin'])"
   ]
  },
  {
   "cell_type": "code",
   "execution_count": null,
   "id": "68095451",
   "metadata": {},
   "outputs": [],
   "source": []
  },
  {
   "cell_type": "code",
   "execution_count": null,
   "id": "d891d943",
   "metadata": {},
   "outputs": [],
   "source": [
    "sns.scatterplot(y=df['Present_Tmax'], x=df['Next_Tmin'])"
   ]
  },
  {
   "cell_type": "code",
   "execution_count": null,
   "id": "acac9b8d",
   "metadata": {},
   "outputs": [],
   "source": []
  },
  {
   "cell_type": "code",
   "execution_count": null,
   "id": "a4d1145c",
   "metadata": {},
   "outputs": [],
   "source": [
    "sns.pairplot(df,hue=\"Next_Tmin\")"
   ]
  },
  {
   "cell_type": "code",
   "execution_count": null,
   "id": "d937757d",
   "metadata": {},
   "outputs": [],
   "source": []
  },
  {
   "cell_type": "code",
   "execution_count": null,
   "id": "d165c207",
   "metadata": {},
   "outputs": [],
   "source": [
    "sns.pairplot(df,hue=\"Next_Tmax\")"
   ]
  },
  {
   "cell_type": "code",
   "execution_count": null,
   "id": "11bce5d0",
   "metadata": {},
   "outputs": [],
   "source": []
  },
  {
   "cell_type": "markdown",
   "id": "211bb247",
   "metadata": {},
   "source": [
    "# Correlation"
   ]
  },
  {
   "cell_type": "code",
   "execution_count": null,
   "id": "3839c0cd",
   "metadata": {},
   "outputs": [],
   "source": [
    "cor=df.corr()\n",
    "cor"
   ]
  },
  {
   "cell_type": "markdown",
   "id": "790845dc",
   "metadata": {},
   "source": [
    "Here we can see that bottom value is more correlated then above"
   ]
  },
  {
   "cell_type": "code",
   "execution_count": null,
   "id": "0255d248",
   "metadata": {},
   "outputs": [],
   "source": [
    "plt.figure(figsize=(22,7))\n",
    "df.corr()['Next_Tmin'].sort_values(ascending=False).drop(['Next_Tmin']).plot(kind='bar',color='c')\n",
    "plt.xlabel('Feature',fontsize=14)\n",
    "plt.ylabel('column with target names',fontsize=14)\n",
    "plt.title('correlation',fontsize=18)\n",
    "plt.show()"
   ]
  },
  {
   "cell_type": "code",
   "execution_count": null,
   "id": "3f0dcdf1",
   "metadata": {},
   "outputs": [],
   "source": []
  },
  {
   "cell_type": "code",
   "execution_count": null,
   "id": "25054b69",
   "metadata": {},
   "outputs": [],
   "source": [
    "plt.figure(figsize=(22,7))\n",
    "df.corr()['Next_Tmax'].sort_values(ascending=False).drop(['Next_Tmax']).plot(kind='bar',color='c')\n",
    "plt.xlabel('Feature',fontsize=14)\n",
    "plt.ylabel('column with target names',fontsize=14)\n",
    "plt.title('correlation',fontsize=18)\n",
    "plt.show()"
   ]
  },
  {
   "cell_type": "code",
   "execution_count": null,
   "id": "23b42b10",
   "metadata": {},
   "outputs": [],
   "source": []
  },
  {
   "cell_type": "code",
   "execution_count": null,
   "id": "fe10e32b",
   "metadata": {},
   "outputs": [],
   "source": [
    "plt.figure(figsize=[22,12])\n",
    "sns.heatmap(cor,annot=True)\n",
    "plt.title(\"Correlation Matrix\")\n",
    "plt.show()"
   ]
  },
  {
   "cell_type": "code",
   "execution_count": null,
   "id": "f000dc45",
   "metadata": {},
   "outputs": [],
   "source": []
  },
  {
   "cell_type": "markdown",
   "id": "843bf335",
   "metadata": {},
   "source": [
    "# Outlier removing"
   ]
  },
  {
   "cell_type": "code",
   "execution_count": null,
   "id": "d756b99d",
   "metadata": {},
   "outputs": [],
   "source": [
    "from scipy.stats import zscore\n",
    "z=np.abs(zscore(df))\n",
    "new_df=df[(z<3).all(axis=1)]\n",
    "new_df"
   ]
  },
  {
   "cell_type": "code",
   "execution_count": null,
   "id": "6c0d008f",
   "metadata": {},
   "outputs": [],
   "source": [
    "new_df.shape"
   ]
  },
  {
   "cell_type": "code",
   "execution_count": null,
   "id": "7dce2129",
   "metadata": {},
   "outputs": [],
   "source": [
    "df.shape"
   ]
  },
  {
   "cell_type": "code",
   "execution_count": null,
   "id": "c2257a01",
   "metadata": {},
   "outputs": [],
   "source": [
    "round(1387/1470,2)"
   ]
  },
  {
   "cell_type": "code",
   "execution_count": null,
   "id": "33ea23e6",
   "metadata": {},
   "outputs": [],
   "source": []
  },
  {
   "cell_type": "code",
   "execution_count": null,
   "id": "03f0d891",
   "metadata": {},
   "outputs": [],
   "source": [
    "new_df.skew()"
   ]
  },
  {
   "cell_type": "code",
   "execution_count": null,
   "id": "2046d3b1",
   "metadata": {},
   "outputs": [],
   "source": []
  },
  {
   "cell_type": "markdown",
   "id": "4bf14660",
   "metadata": {},
   "source": [
    "# Variance Inflation Factor(VIF):\n",
    "Used for finding multi colenearity.So,that we can remove it"
   ]
  },
  {
   "cell_type": "code",
   "execution_count": null,
   "id": "0313f386",
   "metadata": {},
   "outputs": [],
   "source": [
    "from statsmodels.stats.outliers_influence import variance_inflation_factor\n",
    "def cal_vif(ds):\n",
    "    vif=pd.DataFrame()\n",
    "    vif[\"variables\"]=ds.columns\n",
    "    vif[\"VIF FACTOR\"]=[variance_inflation_factor (ds.values,i) for i in range (ds.shape[1])]\n",
    "    return (vif)\n",
    "\n",
    "cal_vif(new_df)"
   ]
  },
  {
   "cell_type": "code",
   "execution_count": null,
   "id": "03e17e5e",
   "metadata": {},
   "outputs": [],
   "source": [
    "plt.figure(figsize=(15,14))\n",
    "normalDist=1\n",
    "for i in new_df:\n",
    "    if normalDist<=10:\n",
    "        plt.subplot(4,3,normalDist)\n",
    "        sns.distplot(new_df[i])\n",
    "        plt.xlabel(i)\n",
    "    normalDist=normalDist+1\n",
    "plt.show()"
   ]
  },
  {
   "cell_type": "code",
   "execution_count": null,
   "id": "bc1ea109",
   "metadata": {},
   "outputs": [],
   "source": []
  },
  {
   "cell_type": "code",
   "execution_count": null,
   "id": "290f221c",
   "metadata": {},
   "outputs": [],
   "source": [
    "le = LabelEncoder() \n",
    "df['Date']=le.fit_transform(df['Date'])\n",
    "df"
   ]
  },
  {
   "cell_type": "code",
   "execution_count": null,
   "id": "2cc3291b",
   "metadata": {},
   "outputs": [],
   "source": [
    "x = df.drop(['Next_Tmax','Next_Tmin'],axis=1)\n",
    "y = df[['Next_Tmax','Next_Tmin']]"
   ]
  },
  {
   "cell_type": "code",
   "execution_count": null,
   "id": "7b0ac00d",
   "metadata": {},
   "outputs": [],
   "source": [
    "from sklearn.preprocessing import StandardScaler\n",
    "scale = StandardScaler()\n",
    "x=scale.fit_transform(x)"
   ]
  },
  {
   "cell_type": "markdown",
   "id": "099c8374",
   "metadata": {},
   "source": [
    "# Model building"
   ]
  },
  {
   "cell_type": "code",
   "execution_count": null,
   "id": "3f655bf0",
   "metadata": {},
   "outputs": [],
   "source": [
    "max_r2=0\n",
    "maxRs=0\n",
    "for i in range(0,100):\n",
    "    x_train, x_test, y_train, y_test = train_test_split(x, y, test_size=0.20, random_state=i)\n",
    "    lr=LinearRegression()\n",
    "    lr.fit(x_train,y_train)\n",
    "    pred_train=lr.predict(x_train)\n",
    "    pred_test=lr.predict(x_test)\n",
    "    r2_score1=r2_score(y_test,pred_test)\n",
    "    if r2_score1>max_r2:\n",
    "        max_r2=r2_score1\n",
    "        maxRs=i\n",
    "print(\"Best r2_score is \", max_r2,\"on Random_State\",maxRs)"
   ]
  },
  {
   "cell_type": "code",
   "execution_count": null,
   "id": "ce858c87",
   "metadata": {},
   "outputs": [],
   "source": [
    "from sklearn.model_selection import train_test_split\n",
    "x_train,x_test,y_train,y_test = train_test_split(x,y,test_size=0.2,random_state=60)"
   ]
  },
  {
   "cell_type": "code",
   "execution_count": null,
   "id": "3880b9ae",
   "metadata": {},
   "outputs": [],
   "source": [
    "from sklearn.linear_model import LinearRegression,Ridge,Lasso\n",
    "from sklearn.tree import DecisionTreeRegressor\n",
    "from sklearn.svm import SVR\n",
    "from sklearn.ensemble import RandomForestRegressor,GradientBoostingRegressor,AdaBoostRegressor\n",
    "from sklearn.model_selection import cross_val_score"
   ]
  },
  {
   "cell_type": "code",
   "execution_count": null,
   "id": "6a70d98a",
   "metadata": {},
   "outputs": [],
   "source": [
    "lr=LinearRegression()\n",
    "ri=Ridge()\n",
    "la=Lasso()\n",
    "dtc=DecisionTreeRegressor()\n",
    "rf=RandomForestRegressor()\n",
    "model=[lr,ri,la,dtc,rf]\n",
    "\n",
    "for m in model:\n",
    "    m.fit(x_train,y_train)\n",
    "    pred=m.predict(x_test)\n",
    "    mscore=m.score(x_train,y_train)\n",
    "    print('Score;', mscore)\n",
    "    print('Mean Absolute error: of',m)\n",
    "    mae=mean_absolute_error(y_test,pred)\n",
    "    print(mae)\n",
    "    print('Mean Squared error: of',m)\n",
    "    mse=mean_squared_error(y_test,pred)\n",
    "    print(mse)\n",
    "    print('Root Mean Squared error: of',m)\n",
    "    rmse=np.sqrt(mean_squared_error(y_test,pred))\n",
    "    print(rmse)\n",
    "    print('r2 score: of',m)\n",
    "    r2score=r2_score(y_test,pred)\n",
    "    print(r2score)\n",
    "    score=cross_val_score(m,x,y,cv=5)\n",
    "    crossval=score.mean()\n",
    "    print(\"Cross Validation Score:\",crossval)\n",
    "    print(\"Difference Between r2_score and CrossValidation Score:\",abs(r2score-crossval))\n",
    "    print(\"\\n\")"
   ]
  },
  {
   "cell_type": "markdown",
   "id": "54769ce4",
   "metadata": {},
   "source": [
    "# hyper tuniing"
   ]
  },
  {
   "cell_type": "code",
   "execution_count": null,
   "id": "4fdc14e5",
   "metadata": {},
   "outputs": [],
   "source": [
    "from sklearn.model_selection import GridSearchCV\n",
    "RandomForestRegressor( )\n",
    "param_dict = {\n",
    " 'max_depth': [10, 20],\n",
    " 'min_samples_leaf': [1, 2],\n",
    " 'min_samples_split': [2, 5],\n",
    " 'n_estimators': [100,200]}\n",
    "gs_model = GridSearchCV(RandomForestRegressor(),param_grid=param_dict,verbose=3)\n",
    "gs_model.fit(x_train,y_train)\n",
    "gs_model.best_score_ "
   ]
  },
  {
   "cell_type": "markdown",
   "id": "a9b27e77",
   "metadata": {},
   "source": [
    "# saving model"
   ]
  },
  {
   "cell_type": "code",
   "execution_count": null,
   "id": "1870e443",
   "metadata": {},
   "outputs": [],
   "source": [
    "import joblib\n",
    "joblib.dump(best_model,'temperature.obj')"
   ]
  },
  {
   "cell_type": "code",
   "execution_count": null,
   "id": "6d4a2412",
   "metadata": {},
   "outputs": [],
   "source": []
  }
 ],
 "metadata": {
  "kernelspec": {
   "display_name": "Python 3",
   "language": "python",
   "name": "python3"
  },
  "language_info": {
   "codemirror_mode": {
    "name": "ipython",
    "version": 3
   },
   "file_extension": ".py",
   "mimetype": "text/x-python",
   "name": "python",
   "nbconvert_exporter": "python",
   "pygments_lexer": "ipython3",
   "version": "3.8.8"
  }
 },
 "nbformat": 4,
 "nbformat_minor": 5
}
